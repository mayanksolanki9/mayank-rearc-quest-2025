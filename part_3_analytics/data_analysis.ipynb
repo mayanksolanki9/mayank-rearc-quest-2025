{
 "cells": [
  {
   "cell_type": "code",
   "execution_count": 1,
   "id": "469ba3bd-d3c9-4f74-8dfc-f528d0d257d9",
   "metadata": {},
   "outputs": [],
   "source": [
    "import pandas as pd\n",
    "import boto3\n",
    "import json"
   ]
  },
  {
   "cell_type": "code",
   "execution_count": 2,
   "id": "9cdbe7e4-6838-40bd-88dd-7e8c0178e51b",
   "metadata": {},
   "outputs": [
    {
     "name": "stdout",
     "output_type": "stream",
     "text": [
      "Configuration loaded.\n"
     ]
    }
   ],
   "source": [
    "# --- Configuration ---\n",
    "BUCKET_NAME = \"mayank-rearc-quest-2025\"\n",
    "TIME_SERIES_KEY = \"pr/pr.data.0.Current\"\n",
    "POPULATION_KEY = \"population/us_population_data.json\"\n",
    "\n",
    "print(\"Configuration loaded.\")"
   ]
  },
  {
   "cell_type": "code",
   "execution_count": 3,
   "id": "712f04a7-ac77-4e18-a7a0-5f14ebe69023",
   "metadata": {},
   "outputs": [
    {
     "name": "stdout",
     "output_type": "stream",
     "text": [
      "Loading time-series data from s3://mayank-rearc-quest-2025/pr/pr.data.0.Current...\n",
      "Time-series data loaded successfully.\n",
      "Loading population data from s3://mayank-rearc-quest-2025/population/us_population_data.json...\n",
      "Population data loaded successfully.\n"
     ]
    }
   ],
   "source": [
    "# --- Load Data from S3 ---\n",
    "s3_client = boto3.client('s3')\n",
    "\n",
    "# Load the time-series data from the BLS files\n",
    "try:\n",
    "    print(f\"Loading time-series data from s3://{BUCKET_NAME}/{TIME_SERIES_KEY}...\")\n",
    "    ts_obj = s3_client.get_object(Bucket=BUCKET_NAME, Key=TIME_SERIES_KEY)\n",
    "    \n",
    "    df_series = pd.read_csv(ts_obj['Body'], sep='\\t')\n",
    "    print(\"Time-series data loaded successfully.\")\n",
    "\n",
    "    # Load the population data from the JSON file\n",
    "    print(f\"Loading population data from s3://{BUCKET_NAME}/{POPULATION_KEY}...\")\n",
    "    pop_obj = s3_client.get_object(Bucket=BUCKET_NAME, Key=POPULATION_KEY)\n",
    "    population_data = json.loads(pop_obj['Body'].read().decode('utf-8'))\n",
    "    df_population = pd.DataFrame(population_data['data'])\n",
    "    print(\"Population data loaded successfully.\")\n",
    "    \n",
    "except Exception as e:\n",
    "    print(f\"An error occurred loading data from S3: {e}\")"
   ]
  },
  {
   "cell_type": "code",
   "execution_count": 4,
   "id": "2d86917c-ecdc-4364-ae8f-1bf5e5099bef",
   "metadata": {},
   "outputs": [
    {
     "name": "stdout",
     "output_type": "stream",
     "text": [
      "\n",
      "--- Starting Data Cleaning ---\n",
      "Time-series dataframe cleaned.\n",
      "Population dataframe cleaned.\n",
      "--- Data Cleaning Complete ---\n"
     ]
    }
   ],
   "source": [
    "# --- Data Cleaning ---\n",
    "print(\"\\n--- Starting Data Cleaning ---\")\n",
    "\n",
    "# Clean the time-series dataframe\n",
    "\n",
    "# Trim whitespace from column headers\n",
    "df_series.columns = df_series.columns.str.strip()\n",
    "\n",
    "# Trim whitespace from the actual data in the 'series_id' and 'period' columns\n",
    "df_series['series_id'] = df_series['series_id'].str.strip()\n",
    "df_series['period'] = df_series['period'].str.strip()\n",
    "\n",
    "# Convert the 'value' column to a number, forcing any non-numeric values to become 'NaN'\n",
    "df_series['value'] = pd.to_numeric(df_series['value'], errors='coerce')\n",
    "\n",
    "# Drop any rows that had non-numeric values, as they can't be used in calculations.\n",
    "df_series.dropna(subset=['value'], inplace=True)\n",
    "print(\"Time-series dataframe cleaned.\")\n",
    "\n",
    "# Clean the population dataframe\n",
    "df_population['Year'] = df_population['Year'].astype(int)\n",
    "print(\"Population dataframe cleaned.\")\n",
    "print(\"--- Data Cleaning Complete ---\")"
   ]
  },
  {
   "cell_type": "code",
   "execution_count": 5,
   "id": "2f22f0f1-f237-4494-9920-b5f786413301",
   "metadata": {},
   "outputs": [
    {
     "name": "stdout",
     "output_type": "stream",
     "text": [
      "\n",
      "--- Analytics Results ---\n",
      "\n",
      "[Question 1: US Population Analysis (2013-2018)]\n",
      "Mean Population: 322,069,808\n",
      "Standard Deviation of Population: 4,158,441\n"
     ]
    }
   ],
   "source": [
    "# --- Answering the Questions ---\n",
    "print(\"\\n--- Analytics Results ---\")\n",
    "\n",
    "# Question 1: What is the mean and standard deviation of the US population from 2013 to 2018?\n",
    "print(\"\\n[Question 1: US Population Analysis (2013-2018)]\")\n",
    "pop_filtered = df_population[(df_population['Year'] >= 2013) & (df_population['Year'] <= 2018)]\n",
    "pop_mean = pop_filtered['Population'].mean()\n",
    "pop_std = pop_filtered['Population'].std()\n",
    "print(f\"Mean Population: {pop_mean:,.0f}\")\n",
    "print(f\"Standard Deviation of Population: {pop_std:,.0f}\")"
   ]
  },
  {
   "cell_type": "code",
   "execution_count": 6,
   "id": "48ace319-715b-4ef3-b4fe-ef8e47f2e122",
   "metadata": {},
   "outputs": [
    {
     "name": "stdout",
     "output_type": "stream",
     "text": [
      "\n",
      "[Question 2: Best Year per Series ID]\n",
      "Top 5 results:\n",
      "       series_id  year    value\n",
      "27   PRS30006011  2022   20.500\n",
      "58   PRS30006012  2022   17.100\n",
      "65   PRS30006013  1998  705.895\n",
      "108  PRS30006021  2010   17.700\n",
      "139  PRS30006022  2010   12.400\n"
     ]
    }
   ],
   "source": [
    "# Question 2: For each series_id, what was the year with the maximum sum of \"value\"?\n",
    "print(\"\\n[Question 2: Best Year per Series ID]\")\n",
    "yearly_sum = df_series.groupby(['series_id', 'year'])['value'].sum().reset_index()\n",
    "\n",
    "# For each 'series_id', find the index of the row with the maximum 'value'\n",
    "max_value_idx = yearly_sum.groupby('series_id')['value'].idxmax()\n",
    "best_year_report = yearly_sum.loc[max_value_idx]\n",
    "print(\"Top 5 results:\")\n",
    "print(best_year_report.head())"
   ]
  },
  {
   "cell_type": "code",
   "execution_count": 7,
   "id": "e6d05d49-ce00-4605-9a09-68a5afbc461d",
   "metadata": {},
   "outputs": [
    {
     "name": "stdout",
     "output_type": "stream",
     "text": [
      "\n",
      "[Question 3: Joined Data for PRS30006032, Period Q01]\n",
      "     series_id  year period  value   Population\n",
      "0  PRS30006032  2013    Q01    0.5  316128839.0\n",
      "1  PRS30006032  2014    Q01   -0.1  318857056.0\n",
      "2  PRS30006032  2015    Q01   -1.7  321418821.0\n",
      "3  PRS30006032  2016    Q01   -1.4  323127515.0\n",
      "4  PRS30006032  2017    Q01    0.9  325719178.0\n",
      "5  PRS30006032  2018    Q01    0.5  327167439.0\n",
      "6  PRS30006032  2019    Q01   -1.6  328239523.0\n",
      "7  PRS30006032  2021    Q01    0.7  331893745.0\n",
      "8  PRS30006032  2022    Q01    5.3  333287562.0\n",
      "9  PRS30006032  2023    Q01    0.3  334914896.0\n",
      "\n",
      "--- Analysis Complete ---\n"
     ]
    }
   ],
   "source": [
    "# Question 3: Join the two datasets to get the population for a specific series_id and period.\n",
    "print(\"\\n[Question 3: Joined Data for PRS30006032, Period Q01]\")\n",
    "# Filter for the specific series and period Q01\n",
    "series_filtered = df_series[\n",
    "    (df_series['series_id'] == 'PRS30006032') &\n",
    "    (df_series['period'] == 'Q01')\n",
    "].copy()\n",
    "\n",
    "# Join the filtered data with the population data on the 'year' column\n",
    "joined_df = pd.merge(\n",
    "    series_filtered,\n",
    "    df_population,\n",
    "    left_on='year',\n",
    "    right_on='Year',\n",
    "    how='inner'\n",
    ")\n",
    "# Select and display the final desired columns\n",
    "final_report = joined_df[['series_id', 'year', 'period', 'value', 'Population']]\n",
    "print(final_report)\n",
    "\n",
    "print(\"\\n--- Analysis Complete ---\")"
   ]
  },
  {
   "cell_type": "code",
   "execution_count": null,
   "id": "3155a2f7-2423-4d8c-a198-c39368c245d6",
   "metadata": {},
   "outputs": [],
   "source": []
  }
 ],
 "metadata": {
  "kernelspec": {
   "display_name": "Python 3 (ipykernel)",
   "language": "python",
   "name": "python3"
  },
  "language_info": {
   "codemirror_mode": {
    "name": "ipython",
    "version": 3
   },
   "file_extension": ".py",
   "mimetype": "text/x-python",
   "name": "python",
   "nbconvert_exporter": "python",
   "pygments_lexer": "ipython3",
   "version": "3.9.6"
  }
 },
 "nbformat": 4,
 "nbformat_minor": 5
}
